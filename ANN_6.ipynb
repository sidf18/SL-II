{
 "cells": [
  {
   "cell_type": "code",
   "execution_count": 1,
   "id": "1bf3780b-6a3f-4088-a53d-d3f9f4c7ea5e",
   "metadata": {},
   "outputs": [],
   "source": [
    "#Write a python program to recognize the number 0, 1, 2, 39. A 5 * 3 matrix forms the numbers. For any valid point it is taken as 1 and invalid point it is taken as 0. The net has to be trained to recognize all the numbers and when the test data is given, the network has to recognize the particular numbers"
   ]
  },
  {
   "cell_type": "code",
   "execution_count": 6,
   "id": "b6f89fd2-1341-40f1-b6f5-afad40899d3e",
   "metadata": {},
   "outputs": [
    {
     "name": "stdout",
     "output_type": "stream",
     "text": [
      "Test Data:\n",
      "[[[1 1 1]\n",
      "  [1 1 1]\n",
      "  [0 0 0]\n",
      "  [1 1 0]\n",
      "  [0 0 1]]\n",
      "\n",
      " [[0 0 1]\n",
      "  [0 0 0]\n",
      "  [0 1 0]\n",
      "  [0 0 0]\n",
      "  [1 0 0]]\n",
      "\n",
      " [[1 1 1]\n",
      "  [0 0 1]\n",
      "  [1 1 0]\n",
      "  [0 1 1]\n",
      "  [1 0 0]]\n",
      "\n",
      " [[1 1 1]\n",
      "  [0 0 1]\n",
      "  [1 1 0]\n",
      "  [0 1 1]\n",
      "  [1 0 0]]]\n",
      "\n",
      "Predicted Labels:\n",
      "[ 0  1 39 39]\n"
     ]
    }
   ],
   "source": [
    "import numpy as np\n",
    "from sklearn.neural_network import MLPClassifier\n",
    "\n",
    "# Define training data for numbers 0, 1, 2, and 39\n",
    "X_train = np.array([\n",
    "    [1, 1, 1, 1, 1,   # 0\n",
    "     1, 0, 0, 0, 1,\n",
    "     1, 0, 0, 0, 1],\n",
    "    \n",
    "    [0, 0, 1, 0, 0,   # 1\n",
    "     0, 0, 1, 0, 0,\n",
    "     0, 0, 1, 0, 0],\n",
    "    \n",
    "    [1, 1, 1, 0, 0,   # 2\n",
    "     1, 1, 1, 0, 0,\n",
    "     1, 1, 1, 0, 0],\n",
    "    \n",
    "    [1, 1, 1, 0, 0,   # 39\n",
    "     1, 1, 1, 0, 0,\n",
    "     1, 1, 1, 0, 0]\n",
    "])\n",
    "\n",
    "# Flatten the 5x3 matrices to 1D arrays\n",
    "X_train = X_train.reshape(X_train.shape[0], -1)\n",
    "\n",
    "# Define labels for the training data\n",
    "y_train = np.array([0, 1, 2, 39])\n",
    "\n",
    "# Define test data\n",
    "X_test = np.array([\n",
    "    [1, 1, 1, 1, 1,   # 0\n",
    "     1, 0, 0, 0, 1,\n",
    "     1, 0, 0, 0, 1],\n",
    "    \n",
    "    [0, 0, 1, 0, 0,   # 1\n",
    "     0, 0, 1, 0, 0,\n",
    "     0, 0, 1, 0, 0],\n",
    "    \n",
    "    [1, 1, 1, 0, 0,   # 2\n",
    "     1, 1, 1, 0, 0,\n",
    "     1, 1, 1, 0, 0],\n",
    "    \n",
    "    [1, 1, 1, 0, 0,   # 39\n",
    "     1, 1, 1, 0, 0,\n",
    "     1, 1, 1, 0, 0]\n",
    "])\n",
    "\n",
    "# Flatten the test data\n",
    "X_test = X_test.reshape(X_test.shape[0], -1)\n",
    "\n",
    "# Create and train the MLP classifier\n",
    "clf = MLPClassifier(hidden_layer_sizes=(10,), max_iter=1000, random_state=1)\n",
    "clf.fit(X_train, y_train)\n",
    "\n",
    "# Predict the labels for the test data\n",
    "predicted_labels = clf.predict(X_test)\n",
    "\n",
    "print(\"Test Data:\")\n",
    "print(X_test.reshape(-1, 5, 3))  # Reshape back to 5x3 matrices for better readability\n",
    "print(\"\\nPredicted Labels:\")\n",
    "print(predicted_labels)\n"
   ]
  },
  {
   "cell_type": "code",
   "execution_count": null,
   "id": "ae1e2e91-1ca1-4e85-a4aa-ff6454789bbd",
   "metadata": {},
   "outputs": [],
   "source": []
  }
 ],
 "metadata": {
  "kernelspec": {
   "display_name": "Python 3 (ipykernel)",
   "language": "python",
   "name": "python3"
  },
  "language_info": {
   "codemirror_mode": {
    "name": "ipython",
    "version": 3
   },
   "file_extension": ".py",
   "mimetype": "text/x-python",
   "name": "python",
   "nbconvert_exporter": "python",
   "pygments_lexer": "ipython3",
   "version": "3.11.1"
  }
 },
 "nbformat": 4,
 "nbformat_minor": 5
}
