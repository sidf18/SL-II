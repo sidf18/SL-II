{
 "cells": [
  {
   "cell_type": "code",
   "execution_count": 1,
   "id": "798e7d87-6564-4a1b-9110-6f01dee279ba",
   "metadata": {},
   "outputs": [],
   "source": [
    "#Write a python Program for Bidirectional Associative Memory with two pairs of vectors."
   ]
  },
  {
   "cell_type": "code",
   "execution_count": 2,
   "id": "0bfaf36b-3d97-4bc4-856f-f525d4fa6ad7",
   "metadata": {},
   "outputs": [],
   "source": [
    "import numpy as np"
   ]
  },
  {
   "cell_type": "code",
   "execution_count": 3,
   "id": "5f7cdf3d-8a0e-433c-861e-a2fcc5a781ff",
   "metadata": {},
   "outputs": [],
   "source": [
    "x1=np.array([1,1,1,-1])\n",
    "y1=np.array([1.-1])\n",
    "x2=np.array([-1,-1,1,1])\n",
    "y2=np.array([-1,1])"
   ]
  },
  {
   "cell_type": "code",
   "execution_count": 4,
   "id": "3ef509bd-c2e1-4803-8acb-5e85341dd6c3",
   "metadata": {},
   "outputs": [],
   "source": [
    "w=np.outer(y1,x1)+np.outer(y2,x2)"
   ]
  },
  {
   "cell_type": "code",
   "execution_count": 5,
   "id": "fb290c19-5bf3-4594-8870-b130dea82466",
   "metadata": {},
   "outputs": [],
   "source": [
    "def bam(x):\n",
    "  y=np.dot(w,x)\n",
    "  y=np.where(y>=0,1,-1)\n",
    "  return y"
   ]
  },
  {
   "cell_type": "code",
   "execution_count": 6,
   "id": "0804b365-a6fd-4235-beae-29b206826f84",
   "metadata": {},
   "outputs": [],
   "source": [
    "x_test=np.array([1,-1,-1,-1])\n",
    "y_test=bam(x_test)"
   ]
  },
  {
   "cell_type": "code",
   "execution_count": 7,
   "id": "681669d7-8bfb-4961-b413-0cc1ddeba4a1",
   "metadata": {},
   "outputs": [
    {
     "name": "stdout",
     "output_type": "stream",
     "text": [
      "Input x: [ 1 -1 -1 -1]\n",
      "Output y: [ 1 -1]\n"
     ]
    }
   ],
   "source": [
    "print(\"Input x:\", x_test)\n",
    "print(\"Output y:\", y_test)"
   ]
  },
  {
   "cell_type": "code",
   "execution_count": null,
   "id": "33d268db-ab59-46cf-9859-1823c3b9c42b",
   "metadata": {},
   "outputs": [],
   "source": []
  }
 ],
 "metadata": {
  "kernelspec": {
   "display_name": "Python 3 (ipykernel)",
   "language": "python",
   "name": "python3"
  },
  "language_info": {
   "codemirror_mode": {
    "name": "ipython",
    "version": 3
   },
   "file_extension": ".py",
   "mimetype": "text/x-python",
   "name": "python",
   "nbconvert_exporter": "python",
   "pygments_lexer": "ipython3",
   "version": "3.11.1"
  }
 },
 "nbformat": 4,
 "nbformat_minor": 5
}
