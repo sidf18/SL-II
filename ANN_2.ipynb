{
 "cells": [
  {
   "cell_type": "code",
   "execution_count": null,
   "id": "14ddf362-a3a4-4b4e-a174-e9bd31f31ea5",
   "metadata": {},
   "outputs": [],
   "source": [
    "# Generate ANDNOT function using McCulloch-Pitts neural net by a python program"
   ]
  },
  {
   "cell_type": "code",
   "execution_count": 1,
   "id": "3f2816ab-a329-471c-ae1b-efe2fc8ced72",
   "metadata": {},
   "outputs": [
    {
     "name": "stdout",
     "output_type": "stream",
     "text": [
      "ANDNOT(0, 0) = 0\n",
      "ANDNOT(0, 1) = 0\n",
      "ANDNOT(1, 0) = 1\n",
      "ANDNOT(1, 1) = 0\n"
     ]
    }
   ],
   "source": [
    "class McCullochPittsNeuron:\n",
    "    def __init__(self, weights, threshold):\n",
    "        self.weights = weights\n",
    "        self.threshold = threshold\n",
    "\n",
    "    def activate(self, inputs):\n",
    "        if sum(w * x for w, x in zip(self.weights, inputs)) >= self.threshold:\n",
    "            return 1\n",
    "        else:\n",
    "            return 0\n",
    "def ANDNOT_function(x1, x2):\n",
    "    weights = [1, -1]\n",
    "    threshold = 1\n",
    "    neuron = McCullochPittsNeuron(weights, threshold)\n",
    "    return neuron.activate([x1, x2])\n",
    "print(\"ANDNOT(0, 0) =\", ANDNOT_function(0, 0))\n",
    "print(\"ANDNOT(0, 1) =\", ANDNOT_function(0, 1))\n",
    "print(\"ANDNOT(1, 0) =\", ANDNOT_function(1, 0))\n",
    "print(\"ANDNOT(1, 1) =\", ANDNOT_function(1, 1))\n"
   ]
  },
  {
   "cell_type": "code",
   "execution_count": 2,
   "id": "0bf382bb-7c23-4a48-8da5-a03ff88d91fe",
   "metadata": {},
   "outputs": [
    {
     "name": "stdout",
     "output_type": "stream",
     "text": [
      "ANDNOT(0, 0) = 0\n",
      "ANDNOT(0, 1) = 0\n",
      "ANDNOT(1, 0) = 0\n",
      "ANDNOT(1, 1) = 0\n"
     ]
    }
   ],
   "source": [
    "class McCullochPittsNeuron:\n",
    "    def __init__(self, weights, threshold):\n",
    "        self.weights = weights\n",
    "        self.threshold = threshold\n",
    "\n",
    "    def activate(self, inputs):\n",
    "        if sum(w * x for w, x in zip(self.weights, inputs)) >= self.threshold:\n",
    "            return 1\n",
    "        else:\n",
    "            return 0\n",
    "def ANDNOT_function(x1, x2):\n",
    "    weights = [-1, -1]\n",
    "    threshold = 1\n",
    "    neuron = McCullochPittsNeuron(weights, threshold)\n",
    "    return neuron.activate([x1, x2])\n",
    "print(\"ANDNOT(0, 0) =\", ANDNOT_function(0, 0))\n",
    "print(\"ANDNOT(0, 1) =\", ANDNOT_function(0, 1))\n",
    "print(\"ANDNOT(1, 0) =\", ANDNOT_function(1, 0))\n",
    "print(\"ANDNOT(1, 1) =\", ANDNOT_function(1, 1))"
   ]
  },
  {
   "cell_type": "code",
   "execution_count": null,
   "id": "1668dd43-2c6f-4cab-b4c5-2432b137fb0d",
   "metadata": {},
   "outputs": [],
   "source": []
  }
 ],
 "metadata": {
  "kernelspec": {
   "display_name": "Python 3 (ipykernel)",
   "language": "python",
   "name": "python3"
  },
  "language_info": {
   "codemirror_mode": {
    "name": "ipython",
    "version": 3
   },
   "file_extension": ".py",
   "mimetype": "text/x-python",
   "name": "python",
   "nbconvert_exporter": "python",
   "pygments_lexer": "ipython3",
   "version": "3.11.1"
  }
 },
 "nbformat": 4,
 "nbformat_minor": 5
}
