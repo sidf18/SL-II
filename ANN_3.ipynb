{
 "cells": [
  {
   "cell_type": "code",
   "execution_count": 1,
   "id": "a0d3548e-e419-4a6a-b188-850e23b4d077",
   "metadata": {},
   "outputs": [],
   "source": [
    "#Write a Python Program using Perceptron Neural Network to recognise even and odd numbers. Given numbers are in ASCII form 0 to 9"
   ]
  },
  {
   "cell_type": "code",
   "execution_count": 2,
   "id": "3a7bfa24-c91e-4cb9-aa09-5954a40096f4",
   "metadata": {},
   "outputs": [],
   "source": [
    "import numpy as np"
   ]
  },
  {
   "cell_type": "code",
   "execution_count": 3,
   "id": "ee2a32e3-b277-4177-8933-d1c4a407d1c6",
   "metadata": {},
   "outputs": [],
   "source": [
    "# Define the training data\n",
    "training_data = {\n",
    "    '0': [0, 0, 0, 0, 0, 0, 0, 0, 0, 0],  # 0\n",
    "    '1': [1, 0, 0, 0, 0, 0, 0, 0, 0, 0],  # 1\n",
    "    '2': [0, 1, 0, 0, 0, 0, 0, 0, 0, 0],  # 2\n",
    "    '3': [1, 1, 0, 0, 0, 0, 0, 0, 0, 0],  # 3\n",
    "    '4': [0, 0, 1, 0, 0, 0, 0, 0, 0, 0],  # 4\n",
    "    '5': [1, 0, 1, 0, 0, 0, 0, 0, 0, 0],  # 5\n",
    "    '6': [0, 1, 1, 0, 0, 0, 0, 0, 0, 0],  # 6\n",
    "    '7': [1, 1, 1, 0, 0, 0, 0, 0, 0, 0],  # 7\n",
    "    '8': [0, 0, 0, 1, 0, 0, 0, 0, 0, 0],  # 8\n",
    "    '9': [1, 0, 0, 1, 0, 0, 0, 0, 0, 0],  # 9\n",
    "}"
   ]
  },
  {
   "cell_type": "code",
   "execution_count": 4,
   "id": "94a7d0ab-c152-4d65-b3a5-e6c01c7617a8",
   "metadata": {},
   "outputs": [],
   "source": [
    "# Define the target labels\n",
    "labels = {\n",
    "    '0': 0,  # Even\n",
    "    '1': 1,  # Odd\n",
    "    '2': 0,  # Even\n",
    "    '3': 1,  # Odd\n",
    "    '4': 0,  # Even\n",
    "    '5': 1,  # Odd\n",
    "    '6': 0,  # Even\n",
    "    '7': 1,  # Odd\n",
    "    '8': 0,  # Even\n",
    "    '9': 1,  # Odd\n",
    "}"
   ]
  },
  {
   "cell_type": "code",
   "execution_count": 5,
   "id": "698b5af6-13d1-4674-90da-145f51c66510",
   "metadata": {},
   "outputs": [],
   "source": [
    "# Convert data to numpy arrays\n",
    "X_train = np.array([training_data[key] for key in training_data])\n",
    "y_train = np.array([labels[key] for key in labels])"
   ]
  },
  {
   "cell_type": "code",
   "execution_count": 6,
   "id": "30c5380b-6a5f-4590-8382-262eedb9e6e5",
   "metadata": {},
   "outputs": [],
   "source": [
    "# Define the perceptron class\n",
    "class Perceptron:\n",
    "    def __init__(self, input_size):\n",
    "        self.weights = np.random.rand(input_size)\n",
    "        self.bias = np.random.rand()\n",
    "\n",
    "    def predict(self, input_data):\n",
    "        return 1 if np.dot(self.weights, input_data) + self.bias > 0 else 0\n",
    "\n",
    "    def train(self, input_data, label, learning_rate=0.1):\n",
    "        prediction = self.predict(input_data)\n",
    "        error = label - prediction\n",
    "        self.weights += learning_rate * error * input_data\n",
    "        self.bias += learning_rate * error"
   ]
  },
  {
   "cell_type": "code",
   "execution_count": 7,
   "id": "1eec1e81-1cf9-4cec-a28f-550f8e58b699",
   "metadata": {},
   "outputs": [],
   "source": [
    "# Train the perceptron\n",
    "input_size = 10\n",
    "perceptron = Perceptron(input_size)\n",
    "\n",
    "epochs = 1000\n",
    "for epoch in range(epochs):\n",
    "    for i in range(len(X_train)):\n",
    "        input_data = X_train[i]\n",
    "        label = y_train[i]\n",
    "        perceptron.train(input_data, label)"
   ]
  },
  {
   "cell_type": "code",
   "execution_count": 8,
   "id": "081fac5f-6bc1-42dd-a055-cb73d8d40b63",
   "metadata": {},
   "outputs": [
    {
     "name": "stdout",
     "output_type": "stream",
     "text": [
      "ASCII 0 is Even\n",
      "ASCII 1 is Odd\n",
      "ASCII 2 is Even\n",
      "ASCII 3 is Odd\n",
      "ASCII 4 is Even\n",
      "ASCII 5 is Odd\n",
      "ASCII 6 is Even\n",
      "ASCII 7 is Odd\n",
      "ASCII 8 is Even\n",
      "ASCII 9 is Odd\n"
     ]
    }
   ],
   "source": [
    "# Test and print predictions for all training data\n",
    "for key in training_data:\n",
    "    test_input = np.array([training_data[key]])\n",
    "    prediction = perceptron.predict(test_input[0])\n",
    "    print(f\"ASCII {key} is {'Odd' if prediction == 1 else 'Even'}\")"
   ]
  },
  {
   "cell_type": "code",
   "execution_count": null,
   "id": "ccb72cbb-ec07-4818-acb9-24761ca40b73",
   "metadata": {},
   "outputs": [],
   "source": []
  }
 ],
 "metadata": {
  "kernelspec": {
   "display_name": "Python 3 (ipykernel)",
   "language": "python",
   "name": "python3"
  },
  "language_info": {
   "codemirror_mode": {
    "name": "ipython",
    "version": 3
   },
   "file_extension": ".py",
   "mimetype": "text/x-python",
   "name": "python",
   "nbconvert_exporter": "python",
   "pygments_lexer": "ipython3",
   "version": "3.11.1"
  }
 },
 "nbformat": 4,
 "nbformat_minor": 5
}
