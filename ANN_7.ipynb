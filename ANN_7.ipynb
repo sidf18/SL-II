{
 "cells": [
  {
   "cell_type": "code",
   "execution_count": 7,
   "id": "b2b6db9d-dd4c-4e22-bff3-f0cd6395acd9",
   "metadata": {},
   "outputs": [],
   "source": [
    "#Write a python program to show Back Propagation Network for XOR function with Binary Input and Output"
   ]
  },
  {
   "cell_type": "code",
   "execution_count": 8,
   "id": "989a61f5-52c2-4ae8-8332-ee07189df8e5",
   "metadata": {},
   "outputs": [
    {
     "name": "stdout",
     "output_type": "stream",
     "text": [
      "Predictions:\n",
      "Input: [0 0], Predicted Output: [[0.01306063]]\n",
      "Input: [0 1], Predicted Output: [[0.98884039]]\n",
      "Input: [1 0], Predicted Output: [[0.9888419]]\n",
      "Input: [1 1], Predicted Output: [[0.01147793]]\n"
     ]
    }
   ],
   "source": [
    "import numpy as np\n",
    "\n",
    "class NeuralNetwork:\n",
    "    def __init__(self):\n",
    "        # Initialize weights and biases\n",
    "        self.input_size = 2\n",
    "        self.hidden_size = 2\n",
    "        self.output_size = 1\n",
    "\n",
    "        # Initialize weights randomly\n",
    "        self.weights_input_hidden = np.random.rand(self.input_size, self.hidden_size)\n",
    "        self.weights_hidden_output = np.random.rand(self.hidden_size, self.output_size)\n",
    "\n",
    "        # Initialize biases randomly\n",
    "        self.bias_hidden = np.random.rand(1, self.hidden_size)\n",
    "        self.bias_output = np.random.rand(1, self.output_size)\n",
    "\n",
    "    def sigmoid(self, x):\n",
    "        return 1 / (1 + np.exp(-x))\n",
    "\n",
    "    def sigmoid_derivative(self, x):\n",
    "        return x * (1 - x)\n",
    "\n",
    "    def forward_propagation(self, X):\n",
    "        # Calculate hidden layer input\n",
    "        self.hidden_input = np.dot(X, self.weights_input_hidden) + self.bias_hidden\n",
    "        # Apply activation function\n",
    "        self.hidden_output = self.sigmoid(self.hidden_input)\n",
    "\n",
    "        # Calculate output layer input\n",
    "        self.output_input = np.dot(self.hidden_output, self.weights_hidden_output) + self.bias_output\n",
    "        # Apply activation function\n",
    "        self.predicted_output = self.sigmoid(self.output_input)\n",
    "\n",
    "    def backward_propagation(self, X, y):\n",
    "        # Calculate error\n",
    "        self.error = y - self.predicted_output\n",
    "        # Calculate gradients\n",
    "        output_delta = self.error * self.sigmoid_derivative(self.predicted_output)\n",
    "        hidden_error = output_delta.dot(self.weights_hidden_output.T)\n",
    "        hidden_delta = hidden_error * self.sigmoid_derivative(self.hidden_output)\n",
    "\n",
    "        # Update weights and biases\n",
    "        self.weights_hidden_output += self.hidden_output.T.dot(output_delta)\n",
    "        self.weights_input_hidden += X.T.dot(hidden_delta)\n",
    "        self.bias_output += np.sum(output_delta, axis=0)\n",
    "        self.bias_hidden += np.sum(hidden_delta, axis=0)\n",
    "\n",
    "    def train(self, X, y, epochs):\n",
    "        for epoch in range(epochs):\n",
    "            # Forward propagation\n",
    "            self.forward_propagation(X)\n",
    "            # Backward propagation\n",
    "            self.backward_propagation(X, y)\n",
    "\n",
    "    def predict(self, X):\n",
    "        self.forward_propagation(X)\n",
    "        return self.predicted_output\n",
    "\n",
    "# XOR input and output\n",
    "X = np.array([[0, 0], [0, 1], [1, 0], [1, 1]])\n",
    "y = np.array([[0], [1], [1], [0]])\n",
    "\n",
    "# Create and train the neural network\n",
    "nn = NeuralNetwork()\n",
    "nn.train(X, y, epochs=10000)\n",
    "\n",
    "# Predictions\n",
    "print(\"Predictions:\")\n",
    "for i in range(len(X)):\n",
    "    print(f\"Input: {X[i]}, Predicted Output: {nn.predict(X[i])}\")\n"
   ]
  },
  {
   "cell_type": "code",
   "execution_count": null,
   "id": "05081edc-5dd1-43cf-8f1a-ac08a3ffca1d",
   "metadata": {},
   "outputs": [],
   "source": []
  }
 ],
 "metadata": {
  "kernelspec": {
   "display_name": "Python 3 (ipykernel)",
   "language": "python",
   "name": "python3"
  },
  "language_info": {
   "codemirror_mode": {
    "name": "ipython",
    "version": 3
   },
   "file_extension": ".py",
   "mimetype": "text/x-python",
   "name": "python",
   "nbconvert_exporter": "python",
   "pygments_lexer": "ipython3",
   "version": "3.11.1"
  }
 },
 "nbformat": 4,
 "nbformat_minor": 5
}
