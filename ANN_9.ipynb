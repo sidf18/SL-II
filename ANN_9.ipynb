{
 "cells": [
  {
   "cell_type": "code",
   "execution_count": 1,
   "id": "ddff19d9-08ea-4c3c-a73b-4445976beb17",
   "metadata": {},
   "outputs": [],
   "source": [
    "#Write a python program in python program for creating a Back Propagation Feed-forward neural network"
   ]
  },
  {
   "cell_type": "code",
   "execution_count": 2,
   "id": "a4eee4ac-2610-4eaa-ad4d-a34f35425a11",
   "metadata": {},
   "outputs": [],
   "source": [
    "import numpy as np"
   ]
  },
  {
   "cell_type": "code",
   "execution_count": 3,
   "id": "d2530464-37fb-41ba-9196-bbd7948ae5c7",
   "metadata": {},
   "outputs": [],
   "source": [
    "class NeuralNetwork:\n",
    "    def __init__(self, input_size, hidden_size, output_size, learning_rate):\n",
    "        self.input_size = input_size\n",
    "        self.hidden_size = hidden_size\n",
    "        self.output_size = output_size\n",
    "        self.learning_rate = learning_rate\n",
    "\n",
    "        # Initialize weights and biases\n",
    "        self.weights_input_hidden = np.random.rand(self.input_size, self.hidden_size)\n",
    "        self.weights_hidden_output = np.random.rand(self.hidden_size, self.output_size)\n",
    "        self.bias_hidden = np.random.rand(1, self.hidden_size)\n",
    "        self.bias_output = np.random.rand(1, self.output_size)\n",
    "\n",
    "    def sigmoid(self, x):\n",
    "        return 1 / (1 + np.exp(-x))\n",
    "\n",
    "    def sigmoid_derivative(self, x):\n",
    "        return x * (1 - x)\n",
    "\n",
    "    def forward_propagation(self, X):\n",
    "        # Calculate hidden layer input\n",
    "        self.hidden_input = np.dot(X, self.weights_input_hidden) + self.bias_hidden\n",
    "        # Apply activation function\n",
    "        self.hidden_output = self.sigmoid(self.hidden_input)\n",
    "\n",
    "        # Calculate output layer input\n",
    "        self.output_input = np.dot(self.hidden_output, self.weights_hidden_output) + self.bias_output\n",
    "        # Apply activation function\n",
    "        self.predicted_output = self.sigmoid(self.output_input)\n",
    "\n",
    "    def backward_propagation(self, X, y):\n",
    "        # Calculate error\n",
    "        self.error = y - self.predicted_output\n",
    "        # Calculate gradients\n",
    "        output_delta = self.error * self.sigmoid_derivative(self.predicted_output)\n",
    "        hidden_error = output_delta.dot(self.weights_hidden_output.T)\n",
    "        hidden_delta = hidden_error * self.sigmoid_derivative(self.hidden_output)\n",
    "\n",
    "        # Update weights and biases\n",
    "        self.weights_hidden_output += self.hidden_output.T.dot(output_delta) * self.learning_rate\n",
    "        self.weights_input_hidden += X.T.dot(hidden_delta) * self.learning_rate\n",
    "        self.bias_output += np.sum(output_delta, axis=0) * self.learning_rate\n",
    "        self.bias_hidden += np.sum(hidden_delta, axis=0) * self.learning_rate\n",
    "\n",
    "    def train(self, X, y, epochs):\n",
    "        for epoch in range(epochs):\n",
    "            # Forward propagation\n",
    "            self.forward_propagation(X)\n",
    "            # Backward propagation\n",
    "            self.backward_propagation(X, y)\n",
    "\n",
    "    def predict(self, X):\n",
    "        self.forward_propagation(X)\n",
    "        return self.predicted_output"
   ]
  },
  {
   "cell_type": "code",
   "execution_count": 4,
   "id": "dbc420bb-1030-4099-912e-c6dd89b5d63b",
   "metadata": {},
   "outputs": [
    {
     "name": "stdout",
     "output_type": "stream",
     "text": [
      "Predictions:\n",
      "Input: [0 0], Predicted Output: [[0.07263513]]\n",
      "Input: [0 1], Predicted Output: [[0.93116341]]\n",
      "Input: [1 0], Predicted Output: [[0.93117397]]\n",
      "Input: [1 1], Predicted Output: [[0.07576057]]\n"
     ]
    }
   ],
   "source": [
    "# XOR input and output\n",
    "X = np.array([[0, 0], [0, 1], [1, 0], [1, 1]])\n",
    "y = np.array([[0], [1], [1], [0]])\n",
    "\n",
    "# Create and train the neural network\n",
    "input_size = 2\n",
    "hidden_size = 2\n",
    "output_size = 1\n",
    "learning_rate = 0.1\n",
    "\n",
    "nn = NeuralNetwork(input_size, hidden_size, output_size, learning_rate)\n",
    "nn.train(X, y, epochs=10000)\n",
    "\n",
    "# Predictions\n",
    "print(\"Predictions:\")\n",
    "for i in range(len(X)):\n",
    "    print(f\"Input: {X[i]}, Predicted Output: {nn.predict(X[i])}\")\n"
   ]
  },
  {
   "cell_type": "code",
   "execution_count": null,
   "id": "36041cba-fcf9-4d97-a99c-2596ea9792e6",
   "metadata": {},
   "outputs": [],
   "source": []
  }
 ],
 "metadata": {
  "kernelspec": {
   "display_name": "Python 3 (ipykernel)",
   "language": "python",
   "name": "python3"
  },
  "language_info": {
   "codemirror_mode": {
    "name": "ipython",
    "version": 3
   },
   "file_extension": ".py",
   "mimetype": "text/x-python",
   "name": "python",
   "nbconvert_exporter": "python",
   "pygments_lexer": "ipython3",
   "version": "3.11.1"
  }
 },
 "nbformat": 4,
 "nbformat_minor": 5
}
