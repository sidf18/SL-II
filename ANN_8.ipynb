{
 "cells": [
  {
   "cell_type": "code",
   "execution_count": 1,
   "id": "2f3fefa1-7486-4008-bfef-ab654eb6326a",
   "metadata": {},
   "outputs": [],
   "source": [
    "#Write a python program to illustrate ART neural network."
   ]
  },
  {
   "cell_type": "code",
   "execution_count": 2,
   "id": "00a30f89-c0a4-45ed-bfe6-824960d74a2d",
   "metadata": {},
   "outputs": [],
   "source": [
    "import numpy as np"
   ]
  },
  {
   "cell_type": "code",
   "execution_count": 3,
   "id": "1ce5150a-518d-4f57-8aaf-9d23add5a654",
   "metadata": {},
   "outputs": [],
   "source": [
    "class ART:\n",
    "    def __init__(self, num_input, vigilance):\n",
    "        self.num_input = num_input\n",
    "        self.vigilance = vigilance\n",
    "        self.W = np.random.rand(num_input)  # Weights\n",
    "        self.T = 1  # Threshold\n",
    "        self.B = 1  # Basal activity\n",
    "        self.R = 1  # Response\n",
    "        self.reset()\n",
    "\n",
    "    def reset(self):\n",
    "        self.X = np.zeros(self.num_input)  # Input vector\n",
    "        self.Y = np.zeros(self.num_input)  # Reset of Y\n",
    "\n",
    "    def normalize(self, x):\n",
    "        return x / np.sum(x)\n",
    "\n",
    "    def train(self, input_vector):\n",
    "        self.X = self.normalize(input_vector)\n",
    "        while True:\n",
    "            self.R = 0\n",
    "            for i in range(self.num_input):\n",
    "                self.R += self.X[i] * self.W[i]\n",
    "            self.R -= self.T\n",
    "            if self.R < 0:\n",
    "                self.R = 0\n",
    "            self.R = self.R / (self.B + np.sum(self.W))\n",
    "            if self.R >= self.vigilance:\n",
    "                self.W = self.W + self.X\n",
    "                break\n",
    "            else:\n",
    "                self.reset()\n",
    "\n",
    "    def predict(self, input_vector):\n",
    "        self.X = self.normalize(input_vector)\n",
    "        self.R = 0\n",
    "        for i in range(self.num_input):\n",
    "            self.R += self.X[i] * self.W[i]\n",
    "        self.R -= self.T\n",
    "        if self.R < 0:\n",
    "            self.R = 0\n",
    "        self.R = self.R / (self.B + np.sum(self.W))\n",
    "        if self.R >= self.vigilance:\n",
    "            return True\n",
    "        else:\n",
    "            return False\n"
   ]
  },
  {
   "cell_type": "code",
   "execution_count": null,
   "id": "b934abbc-3a3d-454c-8f36-1be0f91a74b7",
   "metadata": {},
   "outputs": [
    {
     "name": "stdout",
     "output_type": "stream",
     "text": [
      "Training the ART network:\n",
      "Training with input vector: [1, 0, 1, 0, 1]\n"
     ]
    }
   ],
   "source": [
    "# Example usage\n",
    "if __name__ == \"__main__\":\n",
    "    # Define parameters\n",
    "    num_input = 5\n",
    "    vigilance = 0.7\n",
    "\n",
    "    # Create ART instance\n",
    "    art = ART(num_input, vigilance)\n",
    "\n",
    "    # Train with some input vectors\n",
    "    training_data = [\n",
    "        [1, 0, 1, 0, 1],\n",
    "        [0, 1, 0, 1, 0],\n",
    "        [1, 1, 1, 1, 1]\n",
    "    ]\n",
    "\n",
    "    print(\"Training the ART network:\")\n",
    "    for data in training_data:\n",
    "        print(f\"Training with input vector: {data}\")\n",
    "        art.train(data)\n",
    "\n",
    "    # Predictions\n",
    "    print(\"\\nPredictions:\")\n",
    "    test_data = [\n",
    "        [1, 0, 1, 0, 1],  # Should match the first pattern\n",
    "        [0, 0, 1, 1, 0]   # Should not match any pattern\n",
    "    ]\n",
    "\n",
    "    for data in test_data:\n",
    "        if art.predict(data):\n",
    "            print(f\"Input vector: {data} - Pattern matched!\")\n",
    "        else:\n",
    "            print(f\"Input vector: {data} - Pattern not matched!\")"
   ]
  },
  {
   "cell_type": "code",
   "execution_count": null,
   "id": "c59a3545-7720-405b-908e-a003999039af",
   "metadata": {},
   "outputs": [],
   "source": []
  }
 ],
 "metadata": {
  "kernelspec": {
   "display_name": "Python 3 (ipykernel)",
   "language": "python",
   "name": "python3"
  },
  "language_info": {
   "codemirror_mode": {
    "name": "ipython",
    "version": 3
   },
   "file_extension": ".py",
   "mimetype": "text/x-python",
   "name": "python",
   "nbconvert_exporter": "python",
   "pygments_lexer": "ipython3",
   "version": "3.11.1"
  }
 },
 "nbformat": 4,
 "nbformat_minor": 5
}
