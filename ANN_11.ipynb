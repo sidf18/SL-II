{
 "cells": [
  {
   "cell_type": "code",
   "execution_count": 1,
   "id": "6dcaeae5-1257-425a-87ce-16bb7f9b440c",
   "metadata": {},
   "outputs": [],
   "source": [
    "#How to Train a Neural Network with TensorFlow/Pytorch and evaluation of logistic regression using tensorflow"
   ]
  },
  {
   "cell_type": "code",
   "execution_count": 2,
   "id": "af1ee2ba-0c08-4746-87c7-3760e64895e3",
   "metadata": {},
   "outputs": [],
   "source": [
    "import tensorflow as tf\n",
    "from sklearn.datasets import load_iris\n",
    "from sklearn.model_selection import train_test_split\n",
    "from sklearn.preprocessing import StandardScaler"
   ]
  },
  {
   "cell_type": "code",
   "execution_count": 3,
   "id": "92624d9a-f982-4b42-b719-afbfa67b001d",
   "metadata": {},
   "outputs": [],
   "source": [
    "# Load Iris dataset\n",
    "iris = load_iris()\n",
    "X, y = iris.data, iris.target"
   ]
  },
  {
   "cell_type": "code",
   "execution_count": 4,
   "id": "8125f822-0ec0-4b4e-84ae-92119864daa3",
   "metadata": {},
   "outputs": [],
   "source": [
    "# Split data into training and testing sets\n",
    "X_train, X_test, y_train, y_test = train_test_split(X, y, test_size=0.2, random_state=42)"
   ]
  },
  {
   "cell_type": "code",
   "execution_count": 5,
   "id": "1de490d2-35d4-42b4-b2e1-c13beec21dc3",
   "metadata": {},
   "outputs": [],
   "source": [
    "# Standardize features\n",
    "scaler = StandardScaler()\n",
    "X_train_scaled = scaler.fit_transform(X_train)\n",
    "X_test_scaled = scaler.transform(X_test)"
   ]
  },
  {
   "cell_type": "code",
   "execution_count": 6,
   "id": "d833e866-344f-4ceb-b867-ccf51a3151a9",
   "metadata": {},
   "outputs": [],
   "source": [
    "# Define logistic regression model\n",
    "logistic_model = tf.keras.Sequential([\n",
    "    tf.keras.layers.Input(shape=(X_train_scaled.shape[1],)),\n",
    "    tf.keras.layers.Dense(1, activation='sigmoid')\n",
    "])"
   ]
  },
  {
   "cell_type": "code",
   "execution_count": 7,
   "id": "f4c0f1bb-4fcd-4219-bbc1-891ac498322a",
   "metadata": {},
   "outputs": [],
   "source": [
    "# Compile the logistic regression model\n",
    "logistic_model.compile(optimizer='adam', loss='binary_crossentropy', metrics=['accuracy'])\n"
   ]
  },
  {
   "cell_type": "code",
   "execution_count": 8,
   "id": "3ee19a90-e9e6-4c1c-9c92-85f6d6f84fd8",
   "metadata": {},
   "outputs": [
    {
     "data": {
      "text/plain": [
       "<keras.src.callbacks.history.History at 0x27de7780210>"
      ]
     },
     "execution_count": 8,
     "metadata": {},
     "output_type": "execute_result"
    }
   ],
   "source": [
    "# Train the logistic regression model\n",
    "logistic_model.fit(X_train_scaled, y_train, epochs=50, batch_size=32, verbose=0)\n"
   ]
  },
  {
   "cell_type": "code",
   "execution_count": 9,
   "id": "63adf7dd-9f57-4f9a-9d7d-593dd923f769",
   "metadata": {},
   "outputs": [
    {
     "name": "stdout",
     "output_type": "stream",
     "text": [
      "\u001b[1m1/1\u001b[0m \u001b[32m━━━━━━━━━━━━━━━━━━━━\u001b[0m\u001b[37m\u001b[0m \u001b[1m0s\u001b[0m 358ms/step - accuracy: 0.5667 - loss: -0.0022\n",
      "Logistic Regression Test Loss: -0.002234554383903742\n",
      "Logistic Regression Test Accuracy: 0.5666666626930237\n"
     ]
    }
   ],
   "source": [
    "# Evaluate the logistic regression model\n",
    "log_loss, log_accuracy = logistic_model.evaluate(X_test_scaled, y_test)\n",
    "print(\"Logistic Regression Test Loss:\", log_loss)\n",
    "print(\"Logistic Regression Test Accuracy:\", log_accuracy)"
   ]
  },
  {
   "cell_type": "code",
   "execution_count": 10,
   "id": "8993c282-673c-45a4-b2fe-38c88604927f",
   "metadata": {},
   "outputs": [],
   "source": [
    "# Define neural network model\n",
    "nn_model = tf.keras.Sequential([\n",
    "    tf.keras.layers.Input(shape=(X_train_scaled.shape[1],)),\n",
    "    tf.keras.layers.Dense(64, activation='relu'),\n",
    "    tf.keras.layers.Dense(3, activation='softmax')  # 3 output neurons for 3 classes in Iris dataset\n",
    "])"
   ]
  },
  {
   "cell_type": "code",
   "execution_count": 11,
   "id": "a8d3ba9f-800a-4deb-9298-cf6a80b20d57",
   "metadata": {},
   "outputs": [],
   "source": [
    "# Compile the neural network model\n",
    "nn_model.compile(optimizer='adam', loss='sparse_categorical_crossentropy', metrics=['accuracy'])\n"
   ]
  },
  {
   "cell_type": "code",
   "execution_count": 12,
   "id": "97a7632f-31b5-48b1-af45-cb0e54c19987",
   "metadata": {},
   "outputs": [
    {
     "data": {
      "text/plain": [
       "<keras.src.callbacks.history.History at 0x27de994b2d0>"
      ]
     },
     "execution_count": 12,
     "metadata": {},
     "output_type": "execute_result"
    }
   ],
   "source": [
    "# Train the neural network model\n",
    "nn_model.fit(X_train_scaled, y_train, epochs=100, batch_size=32, verbose=0)\n"
   ]
  },
  {
   "cell_type": "code",
   "execution_count": 13,
   "id": "7ee8758b-aaa1-48c7-a061-9ca31f336f87",
   "metadata": {},
   "outputs": [
    {
     "name": "stdout",
     "output_type": "stream",
     "text": [
      "\u001b[1m1/1\u001b[0m \u001b[32m━━━━━━━━━━━━━━━━━━━━\u001b[0m\u001b[37m\u001b[0m \u001b[1m0s\u001b[0m 316ms/step - accuracy: 1.0000 - loss: 0.1141\n",
      "\n",
      "Neural Network Test Loss: 0.11408469080924988\n",
      "Neural Network Test Accuracy: 1.0\n"
     ]
    }
   ],
   "source": [
    "# Evaluate the neural network model\n",
    "nn_loss, nn_accuracy = nn_model.evaluate(X_test_scaled, y_test)\n",
    "print(\"\\nNeural Network Test Loss:\", nn_loss)\n",
    "print(\"Neural Network Test Accuracy:\", nn_accuracy)"
   ]
  },
  {
   "cell_type": "code",
   "execution_count": null,
   "id": "95c7d7d8-df54-45e4-b352-8ac26cded901",
   "metadata": {},
   "outputs": [],
   "source": []
  }
 ],
 "metadata": {
  "kernelspec": {
   "display_name": "Python 3 (ipykernel)",
   "language": "python",
   "name": "python3"
  },
  "language_info": {
   "codemirror_mode": {
    "name": "ipython",
    "version": 3
   },
   "file_extension": ".py",
   "mimetype": "text/x-python",
   "name": "python",
   "nbconvert_exporter": "python",
   "pygments_lexer": "ipython3",
   "version": "3.11.1"
  }
 },
 "nbformat": 4,
 "nbformat_minor": 5
}
